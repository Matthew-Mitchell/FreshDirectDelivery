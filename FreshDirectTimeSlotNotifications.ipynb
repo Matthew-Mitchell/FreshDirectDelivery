{
 "cells": [
  {
   "cell_type": "code",
   "execution_count": 6,
   "metadata": {},
   "outputs": [],
   "source": [
    "import time\n",
    "import numpy as np\n",
    "import json\n",
    "from selenium import webdriver\n",
    "import smtplib, ssl\n",
    "import pickle\n",
    "import datetime\n",
    "import pyautogui"
   ]
  },
  {
   "cell_type": "code",
   "execution_count": 2,
   "metadata": {},
   "outputs": [],
   "source": [
    "driver = webdriver.Firefox(\"/home/matt/Documents/Tools/Scraping/\")"
   ]
  },
  {
   "cell_type": "code",
   "execution_count": 3,
   "metadata": {},
   "outputs": [],
   "source": [
    "driver.get('https://www.freshdirect.com')"
   ]
  },
  {
   "cell_type": "markdown",
   "metadata": {},
   "source": [
    "## Login To Fresh Direct, Navigate to Delivery Availability\n",
    "\n",
    "This could further be automated but for simplicity, I am simply logging in once and navigating to the Delivery Availability Page\n",
    "\n",
    "https://www.freshdirect.com/your_account/delivery_info_avail_slots.jsp"
   ]
  },
  {
   "cell_type": "code",
   "execution_count": 28,
   "metadata": {},
   "outputs": [],
   "source": [
    "def move_to_element(driver, element):\n",
    "    \"\"\"This function attempts to move to the element on screen using Pyautogui.\n",
    "    The scroll function above is similar but directly uses the selenium driver.\"\"\"\n",
    "    position = driver.get_window_rect()\n",
    "    element_loc = element.location\n",
    "    pyautogui.moveTo(position['x']+element_loc['x']+55, position['y']+115+element_loc['y'])\n",
    "\n",
    "def click_element(driver, element):\n",
    "    move_to_element(driver,element)\n",
    "    time.sleep(0.1)\n",
    "    pyautogui.click()"
   ]
  },
  {
   "cell_type": "code",
   "execution_count": 30,
   "metadata": {},
   "outputs": [],
   "source": [
    "locbar = driver.find_element_by_id(\"locationbar\")\n",
    "locbar_right = locbar.find_element_by_xpath('//div[@class=\"locabar-right-sections\"]')\n",
    "class_ = \"locabar-section locabar-user-section mouse\"\n",
    "xpath = '//div[@class=\"{}\"]'.format(class_)\n",
    "signOn = locbar_right.find_element_by_xpath(xpath)\n",
    "# div = driver.find_element_by_id('locabar_user_login_link')\n",
    "# signOn = div.find_element_by_xpath(\"//div[@class='locabar-arrow']\")\n",
    "click_element(driver, signOn)"
   ]
  },
  {
   "cell_type": "code",
   "execution_count": 31,
   "metadata": {},
   "outputs": [],
   "source": [
    "email_field = driver.find_element_by_xpath('//input[@id=\"email\"]')\n",
    "for k in \"mmitchell17@protonmail.com\":\n",
    "    email_field.send_keys(k)\n",
    "    time.sleep(np.random.uniform(low=0.005, high=0.08))"
   ]
  },
  {
   "cell_type": "code",
   "execution_count": 33,
   "metadata": {},
   "outputs": [],
   "source": [
    "password_field = driver.find_element_by_xpath('//input[@id=\"password\"]')\n",
    "for k in fresh_pass:\n",
    "    password_field.send_keys(k)\n",
    "    time.sleep(np.random.uniform(low=0.005, high=0.08))"
   ]
  },
  {
   "cell_type": "code",
   "execution_count": 40,
   "metadata": {},
   "outputs": [],
   "source": [
    "signInBtn = driver.find_element_by_id(\"signinbtn\")\n",
    "# move_to_element(signInBtn)\n",
    "signInBtn.click()"
   ]
  },
  {
   "cell_type": "code",
   "execution_count": 41,
   "metadata": {},
   "outputs": [],
   "source": [
    "driver.get(\"https://www.freshdirect.com/your_account/delivery_info_avail_slots.jsp\")"
   ]
  },
  {
   "cell_type": "markdown",
   "metadata": {},
   "source": [
    "## Final Script"
   ]
  },
  {
   "cell_type": "code",
   "execution_count": 32,
   "metadata": {},
   "outputs": [],
   "source": [
    "#Password Loading From Hidden File\n",
    "def load_json(path):\n",
    "    with open(path) as f:\n",
    "        return json.load(f)\n",
    "#Load Passwords\n",
    "keys = load_json(\".secret/mattbotkeys.json\")\n",
    "gmail_pass = keys['gmail']\n",
    "fresh_pass = keys['fresh']\n",
    "gEmail = keys['pEmail']\n",
    "pEmail = keys['gEmail']\n",
    "\n",
    "#Load Recipients\n",
    "recipients = load_json(\".secret/recipients.json\")\n",
    "\n",
    "def check_availability():\n",
    "    \"\"\"Checks Availability for Future Days (Does not check Today)\n",
    "    Returns day, timeslot if availability found. Otherwise, returns None.\n",
    "    \"\"\"\n",
    "    days = list(range(1,7))\n",
    "    timeslots = list(range(6))\n",
    "    for d in days:\n",
    "        query = 'ts_d{}_hC'.format(d)\n",
    "        header = driver.find_element_by_id(query)\n",
    "        for t in timeslots:\n",
    "            query = 'ts_d{}_ts{}_time'.format(d, t)\n",
    "            time_slot = driver.find_element_by_id(query)\n",
    "            attr = time_slot.get_attribute('class')\n",
    "            ts = time_slot.text\n",
    "            if 'Soldout' not in attr:\n",
    "                return (header.text, ts)\n",
    "    else:\n",
    "        return None\n",
    "\n",
    "def sendMessage(receiver_email, subject, message):\n",
    "    message = 'Subject: {}\\n\\n{}'.format(subject, message)\n",
    "    port = 465  # For SSL\n",
    "    smtp_server = \"smtp.gmail.com\"\n",
    "    sender_email = gEmail  # Enter your address\n",
    "    context = ssl.create_default_context()\n",
    "    with smtplib.SMTP_SSL(smtp_server, port, context=context) as server:\n",
    "        server.login(sender_email, gmail_pass)\n",
    "        server.sendmail(sender_email, receiver_email, message)\n",
    "\n"
   ]
  },
  {
   "cell_type": "markdown",
   "metadata": {},
   "source": [
    "## Run Script"
   ]
  },
  {
   "cell_type": "code",
   "execution_count": null,
   "metadata": {},
   "outputs": [],
   "source": [
    "try:\n",
    "    while True:\n",
    "        driver.refresh()\n",
    "        try:\n",
    "            availability = check_availability()\n",
    "            if availability:\n",
    "                day = availability[0]\n",
    "                time_slot = availability[1]\n",
    "                message = 'Delivery Availability on {} at {}!'.format(day, time_slot)\n",
    "                message += \"\"\"\\n\\n\\n\\nEmail sent from MattBot!\"\"\"\n",
    "                for email in recipients:\n",
    "                    sendMessage(email, \"FreshDirect Delivery Available!\", message)\n",
    "                    time.sleep(5*60)\n",
    "        except:\n",
    "            sendMessage(pEmail, \"Warning!\",\"Hit Error.\")\n",
    "            now = datetime.datetime.now().strftime('%m-%d_%I-%M%p')\n",
    "            driver.get_screenshot_as_file('ErrorPages/PageScreenshot_{}.png'.format(now))\n",
    "            page_source = driver.page_source\n",
    "            with open('ErrorPages/PageSourceCode_{}.pickle'.format(now), 'wb') as f:\n",
    "                # Pickle the 'data' dictionary using the highest protocol available.\n",
    "                pickle.dump(page_source, f, pickle.HIGHEST_PROTOCOL)\n",
    "            time.sleep(60*5)\n",
    "\n",
    "        time.sleep(np.random.uniform(low=30, high=100))\n",
    "except:\n",
    "    sendMessage(pEmail, \"Warning!\",\"Script crashed.\")"
   ]
  },
  {
   "cell_type": "markdown",
   "metadata": {},
   "source": [
    "## Full Script Beta"
   ]
  },
  {
   "cell_type": "code",
   "execution_count": null,
   "metadata": {},
   "outputs": [],
   "source": [
    "while True:\n",
    "    driver.refresh()\n",
    "    days = list(range(1,7))\n",
    "    timeslots = list(range(6))\n",
    "    for d in days:\n",
    "        query = 'ts_d{}_hC'.format(d)\n",
    "        header = driver.find_element_by_id(query)\n",
    "    #     print(header.text)\n",
    "        for t in timeslots:\n",
    "            query = 'ts_d{}_ts{}_time'.format(d, t)\n",
    "            time_slot = driver.find_element_by_id(query)\n",
    "            attr = time_slot.get_attribute('class')\n",
    "            ts = time_slot.text\n",
    "            if 'Soldout' not in attr:\n",
    "                message = 'Delivery Availability on {} at {}!'.format(header.text, ts)\n",
    "                port = 465  # For SSL\n",
    "                smtp_server = \"smtp.gmail.com\"\n",
    "                sender_email = gEmail  # Enter your address\n",
    "                receiver_email = pEmail  # Enter receiver address\n",
    "                message += \"\"\"\\n\\nEmail sent from MattBot!\"\"\"\n",
    "\n",
    "                context = ssl.create_default_context()\n",
    "                with smtplib.SMTP_SSL(smtp_server, port, context=context) as server:\n",
    "                    server.login(sender_email, gmail_pass)\n",
    "                    server.sendmail(sender_email, receiver_email, message)\n",
    "                break\n",
    "    time.sleep(30)"
   ]
  },
  {
   "cell_type": "markdown",
   "metadata": {},
   "source": [
    "## Twilio Connection\n",
    "\n",
    "https://www.twilio.com/blog/2016/04/how-to-send-a-text-message-with-python.html"
   ]
  },
  {
   "cell_type": "code",
   "execution_count": 19,
   "metadata": {},
   "outputs": [],
   "source": [
    "from twilio.rest import TwilioRestClient\n"
   ]
  },
  {
   "cell_type": "code",
   "execution_count": null,
   "metadata": {},
   "outputs": [],
   "source": [
    "client = TwilioRestClient()\n",
    "\n",
    "client.messages.create(from_='YOUR_NUMBER',\n",
    "                       to='',\n",
    "                       body='Ahoy from Twilio!')"
   ]
  },
  {
   "cell_type": "markdown",
   "metadata": {},
   "source": [
    "## Gmail Connection"
   ]
  },
  {
   "cell_type": "code",
   "execution_count": 31,
   "metadata": {},
   "outputs": [],
   "source": [
    "import smtplib, ssl\n",
    "\n",
    "port = 465  # For SSL\n",
    "smtp_server = \"smtp.gmail.com\"\n",
    "sender_email = gEmail  # Enter your address\n",
    "receiver_email = pEmail # Enter receiver address\n",
    "message = \"\"\"Test email from MattBot!\"\"\"\n",
    "\n",
    "context = ssl.create_default_context()\n",
    "with smtplib.SMTP_SSL(smtp_server, port, context=context) as server:\n",
    "    server.login(sender_email, gmail_pass)\n",
    "    server.sendmail(sender_email, receiver_email, message)\n"
   ]
  },
  {
   "cell_type": "markdown",
   "metadata": {},
   "source": [
    "## Initial Development Pieces"
   ]
  },
  {
   "cell_type": "code",
   "execution_count": 4,
   "metadata": {},
   "outputs": [
    {
     "data": {
      "text/plain": [
       "''"
      ]
     },
     "execution_count": 4,
     "metadata": {},
     "output_type": "execute_result"
    }
   ],
   "source": [
    "table = driver.find_element_by_tag_name('table')\n",
    "table.text"
   ]
  },
  {
   "cell_type": "code",
   "execution_count": 42,
   "metadata": {},
   "outputs": [
    {
     "name": "stdout",
     "output_type": "stream",
     "text": [
      "TUE\n",
      "Apr 21\n",
      "6 am - 9 am fleft tsCont tsSoldoutC\n",
      "9 am - 12 pm fleft tsCont tsSoldoutC\n",
      "12 pm - 2 pm fleft tsCont tsSoldoutC\n",
      "2 pm - 5 pm fleft tsCont tsSoldoutC\n",
      "5 pm - 8 pm fleft tsCont tsSoldoutC\n",
      "8 pm - 10 pm fleft tsCont tsSoldoutC\n",
      "\n",
      "\n",
      "\n",
      "WED\n",
      "Apr 22\n",
      "6 am - 9 am fleft tsCont tsSoldoutC\n",
      "9 am - 12 pm fleft tsCont tsSoldoutC\n",
      "12 pm - 2 pm fleft tsCont tsSoldoutC\n",
      "2 pm - 5 pm fleft tsCont tsSoldoutC\n",
      "5 pm - 8 pm fleft tsCont tsSoldoutC\n",
      "8 pm - 10 pm fleft tsCont tsSoldoutC\n",
      "\n",
      "\n",
      "\n",
      "THU\n",
      "Apr 23\n",
      "6 am - 9 am fleft tsCont tsSoldoutC\n",
      "9 am - 12 pm fleft tsCont tsSoldoutC\n",
      "12 pm - 2 pm fleft tsCont tsSoldoutC\n",
      "2 pm - 5 pm fleft tsCont tsSoldoutC\n",
      "5 pm - 8 pm fleft tsCont tsSoldoutC\n",
      "8 pm - 10 pm fleft tsCont tsSoldoutC\n",
      "\n",
      "\n",
      "\n",
      "FRI\n",
      "Apr 24\n",
      "6 am - 9 am fleft tsCont tsSoldoutC\n",
      "9 am - 12 pm fleft tsCont tsSoldoutC\n",
      "12 pm - 2 pm fleft tsCont tsSoldoutC\n",
      "2 pm - 5 pm fleft tsCont tsSoldoutC\n",
      "5 pm - 8 pm fleft tsCont tsSoldoutC\n",
      "8 pm - 10 pm fleft tsCont tsSoldoutC\n",
      "\n",
      "\n",
      "\n",
      "SAT\n",
      "Apr 25\n",
      "6 am - 9 am fleft tsCont tsSoldoutC\n",
      "9 am - 12 pm fleft tsCont tsSoldoutC\n",
      "12 pm - 2 pm fleft tsCont tsSoldoutC\n",
      "2 pm - 5 pm fleft tsCont tsSoldoutC\n",
      "5 pm - 8 pm fleft tsCont tsSoldoutC\n",
      "8 pm - 10 pm fleft tsCont tsSoldoutC\n",
      "\n",
      "\n",
      "\n",
      "SUN\n",
      "Apr 26\n",
      "6 am - 9 am fleft tsCont tsSoldoutC\n",
      "9 am - 12 pm fleft tsCont tsSoldoutC\n",
      "12 pm - 2 pm fleft tsCont tsSoldoutC\n",
      "2 pm - 5 pm fleft tsCont tsSoldoutC\n",
      "5 pm - 8 pm fleft tsCont tsSoldoutC\n",
      "8 pm - 10 pm fleft tsCont tsSoldoutC\n",
      "\n",
      "\n",
      "\n"
     ]
    }
   ],
   "source": [
    "days = list(range(1,7))\n",
    "timeslots = list(range(6))\n",
    "for d in days:\n",
    "    query = 'ts_d{}_hC'.format(d)\n",
    "    header = driver.find_element_by_id(query)\n",
    "    print(header.text)\n",
    "    for t in timeslots:\n",
    "        query = 'ts_d{}_ts{}_time'.format(d, t)\n",
    "        time_slot = driver.find_element_by_id(query)\n",
    "        attr = time_slot.get_attribute('class')\n",
    "        ts = time_slot.text\n",
    "        print(ts, attr)\n",
    "    print('\\n\\n')"
   ]
  },
  {
   "cell_type": "code",
   "execution_count": null,
   "metadata": {},
   "outputs": [],
   "source": []
  }
 ],
 "metadata": {
  "kernelspec": {
   "display_name": "Python 3",
   "language": "python",
   "name": "python3"
  },
  "language_info": {
   "codemirror_mode": {
    "name": "ipython",
    "version": 3
   },
   "file_extension": ".py",
   "mimetype": "text/x-python",
   "name": "python",
   "nbconvert_exporter": "python",
   "pygments_lexer": "ipython3",
   "version": "3.7.3"
  }
 },
 "nbformat": 4,
 "nbformat_minor": 2
}
