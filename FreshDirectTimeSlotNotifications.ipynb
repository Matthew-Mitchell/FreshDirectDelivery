{
 "cells": [
  {
   "cell_type": "code",
   "execution_count": 17,
   "metadata": {},
   "outputs": [],
   "source": [
    "import time\n",
    "import numpy as np\n",
    "import json\n",
    "from selenium import webdriver\n",
    "import smtplib, ssl"
   ]
  },
  {
   "cell_type": "code",
   "execution_count": 2,
   "metadata": {},
   "outputs": [],
   "source": [
    "driver = webdriver.Firefox(\"/home/matt/Documents/Tools/Scraping/\")"
   ]
  },
  {
   "cell_type": "code",
   "execution_count": 3,
   "metadata": {},
   "outputs": [],
   "source": [
    "driver.get('https://www.freshdirect.com')"
   ]
  },
  {
   "cell_type": "markdown",
   "metadata": {},
   "source": [
    "## Login To Fresh Direct, Navigate to Delivery Availability\n",
    "\n",
    "This could further be automated but for simplicity, I am simply logging in once and navigating to the Delivery Availability Page\n",
    "\n",
    "https://www.freshdirect.com/your_account/delivery_info_avail_slots.jsp"
   ]
  },
  {
   "cell_type": "markdown",
   "metadata": {},
   "source": [
    "## Final Script"
   ]
  },
  {
   "cell_type": "code",
   "execution_count": 15,
   "metadata": {},
   "outputs": [],
   "source": [
    "#Password Loading From Hidden File\n",
    "def load_json(path):\n",
    "    with open(path) as f:\n",
    "        return json.load(f)\n",
    "#Load Passwords\n",
    "keys = load_json(\".secret/mattbotkeys.json\")\n",
    "gmail_pass = keys['gmail']\n",
    "\n",
    "#Load Recipients\n",
    "recipients = load_json(\".secret/recipients.json\")\n",
    "\n",
    "def check_availability():\n",
    "    \"\"\"Checks Availability for Future Days (Does not check Today)\n",
    "    Returns day, timeslot if availability found. Otherwise, returns None.\n",
    "    \"\"\"\n",
    "    days = list(range(1,7))\n",
    "    timeslots = list(range(6))\n",
    "    for d in days:\n",
    "        query = 'ts_d{}_hC'.format(d)\n",
    "        header = driver.find_element_by_id(query)\n",
    "        for t in timeslots:\n",
    "            query = 'ts_d{}_ts{}_time'.format(d, t)\n",
    "            time_slot = driver.find_element_by_id(query)\n",
    "            attr = time_slot.get_attribute('class')\n",
    "            ts = time_slot.text\n",
    "            if 'Soldout' not in attr:\n",
    "                return (header.text, ts)\n",
    "    else:\n",
    "        return None\n",
    "\n",
    "def sendMessage(receiver_email, subject, message):\n",
    "    message = 'Subject: {}\\n\\n{}'.format(subject, message)\n",
    "    port = 465  # For SSL\n",
    "    smtp_server = \"smtp.gmail.com\"\n",
    "    sender_email = \"matthewbmitchell@gmail.com\"  # Enter your address\n",
    "    context = ssl.create_default_context()\n",
    "    with smtplib.SMTP_SSL(smtp_server, port, context=context) as server:\n",
    "        server.login(sender_email, gmail_pass)\n",
    "        server.sendmail(sender_email, receiver_email, message)\n",
    "\n"
   ]
  },
  {
   "cell_type": "markdown",
   "metadata": {},
   "source": [
    "## Run Script"
   ]
  },
  {
   "cell_type": "code",
   "execution_count": null,
   "metadata": {},
   "outputs": [],
   "source": [
    "while True:\n",
    "    driver.refresh()\n",
    "    try:\n",
    "        availability = check_availability()\n",
    "        if availability:\n",
    "            day = availability[0]\n",
    "            time_slot = availability[1]\n",
    "            message = 'Delivery Availability on {} at {}!'.format(day, time_slot)\n",
    "            for email in recipients:\n",
    "                sendMessage(email, \"FreshDirect Delivery Available!\", message)\n",
    "    except:\n",
    "        sendMessage('mmitchell17@protonmail.com', \"Warning! Script crashed.\")\n",
    "    time.sleep(np.random.uniform(low=30, high=100))"
   ]
  },
  {
   "cell_type": "markdown",
   "metadata": {},
   "source": [
    "## Full Script Beta"
   ]
  },
  {
   "cell_type": "code",
   "execution_count": null,
   "metadata": {},
   "outputs": [],
   "source": [
    "while True:\n",
    "    driver.refresh()\n",
    "    days = list(range(1,7))\n",
    "    timeslots = list(range(6))\n",
    "    for d in days:\n",
    "        query = 'ts_d{}_hC'.format(d)\n",
    "        header = driver.find_element_by_id(query)\n",
    "    #     print(header.text)\n",
    "        for t in timeslots:\n",
    "            query = 'ts_d{}_ts{}_time'.format(d, t)\n",
    "            time_slot = driver.find_element_by_id(query)\n",
    "            attr = time_slot.get_attribute('class')\n",
    "            ts = time_slot.text\n",
    "            if 'Soldout' not in attr:\n",
    "                message = 'Delivery Availability on {} at {}!'.format(header.text, ts)\n",
    "                port = 465  # For SSL\n",
    "                smtp_server = \"smtp.gmail.com\"\n",
    "                sender_email = \"matthewbmitchell@gmail.com\"  # Enter your address\n",
    "                receiver_email = \"mmitchell17@protonmail.com\"  # Enter receiver address\n",
    "                message += \"\"\"\\n\\nEmail sent from MattBot!\"\"\"\n",
    "\n",
    "                context = ssl.create_default_context()\n",
    "                with smtplib.SMTP_SSL(smtp_server, port, context=context) as server:\n",
    "                    server.login(sender_email, gmail_pass)\n",
    "                    server.sendmail(sender_email, receiver_email, message)\n",
    "                break\n",
    "    time.sleep(30)"
   ]
  },
  {
   "cell_type": "markdown",
   "metadata": {},
   "source": [
    "## Twilio Connection\n",
    "\n",
    "https://www.twilio.com/blog/2016/04/how-to-send-a-text-message-with-python.html"
   ]
  },
  {
   "cell_type": "code",
   "execution_count": 19,
   "metadata": {},
   "outputs": [],
   "source": [
    "from twilio.rest import TwilioRestClient\n"
   ]
  },
  {
   "cell_type": "code",
   "execution_count": null,
   "metadata": {},
   "outputs": [],
   "source": [
    "client = TwilioRestClient()\n",
    "\n",
    "client.messages.create(from_='YOUR_NUMBER',\n",
    "                       to='',\n",
    "                       body='Ahoy from Twilio!')"
   ]
  },
  {
   "cell_type": "markdown",
   "metadata": {},
   "source": [
    "## Gmail Connection"
   ]
  },
  {
   "cell_type": "code",
   "execution_count": 31,
   "metadata": {},
   "outputs": [],
   "source": [
    "import smtplib, ssl\n",
    "\n",
    "port = 465  # For SSL\n",
    "smtp_server = \"smtp.gmail.com\"\n",
    "sender_email = \"matthewbmitchell@gmail.com\"  # Enter your address\n",
    "receiver_email = \"mmitchell17@protonmail.com\"  # Enter receiver address\n",
    "message = \"\"\"Test email from MattBot!\"\"\"\n",
    "\n",
    "context = ssl.create_default_context()\n",
    "with smtplib.SMTP_SSL(smtp_server, port, context=context) as server:\n",
    "    server.login(sender_email, gmail_pass)\n",
    "    server.sendmail(sender_email, receiver_email, message)\n"
   ]
  },
  {
   "cell_type": "markdown",
   "metadata": {},
   "source": [
    "## Initial Development Pieces"
   ]
  },
  {
   "cell_type": "code",
   "execution_count": 4,
   "metadata": {},
   "outputs": [
    {
     "data": {
      "text/plain": [
       "''"
      ]
     },
     "execution_count": 4,
     "metadata": {},
     "output_type": "execute_result"
    }
   ],
   "source": [
    "table = driver.find_element_by_tag_name('table')\n",
    "table.text"
   ]
  },
  {
   "cell_type": "code",
   "execution_count": 13,
   "metadata": {},
   "outputs": [
    {
     "name": "stdout",
     "output_type": "stream",
     "text": [
      "MON\n",
      "Apr 20\n",
      "6 am - 9 am fleft tsCont tsSoldoutC\n",
      "9 am - 12 pm fleft tsCont tsSoldoutC\n",
      "12 pm - 2 pm fleft tsCont tsSoldoutC\n",
      "2 pm - 5 pm fleft tsCont tsSoldoutC\n",
      "5 pm - 8 pm fleft tsCont tsSoldoutC\n",
      "8 pm - 10 pm fleft tsCont tsSoldoutC\n",
      "\n",
      "\n",
      "\n",
      "TUE\n",
      "Apr 21\n",
      "6 am - 9 am fleft tsCont tsSoldoutC\n",
      "9 am - 12 pm fleft tsCont tsSoldoutC\n",
      "12 pm - 2 pm fleft tsCont tsSoldoutC\n",
      "2 pm - 5 pm fleft tsCont tsSoldoutC\n",
      "5 pm - 8 pm fleft tsCont tsSoldoutC\n",
      "8 pm - 10 pm fleft tsCont tsSoldoutC\n",
      "\n",
      "\n",
      "\n",
      "WED\n",
      "Apr 22\n",
      "6 am - 9 am fleft tsCont tsSoldoutC\n",
      "9 am - 12 pm fleft tsCont tsSoldoutC\n",
      "12 pm - 2 pm fleft tsCont tsSoldoutC\n",
      "2 pm - 5 pm fleft tsCont tsSoldoutC\n",
      "5 pm - 8 pm fleft tsCont tsSoldoutC\n",
      "8 pm - 10 pm fleft tsCont tsSoldoutC\n",
      "\n",
      "\n",
      "\n",
      "THU\n",
      "Apr 23\n",
      "6 am - 9 am fleft tsCont tsSoldoutC\n",
      "9 am - 12 pm fleft tsCont tsSoldoutC\n",
      "12 pm - 2 pm fleft tsCont tsSoldoutC\n",
      "2 pm - 5 pm fleft tsCont tsSoldoutC\n",
      "5 pm - 8 pm fleft tsCont tsSoldoutC\n",
      "8 pm - 10 pm fleft tsCont tsSoldoutC\n",
      "\n",
      "\n",
      "\n",
      "FRI\n",
      "Apr 24\n",
      "6 am - 9 am fleft tsCont tsSoldoutC\n",
      "9 am - 12 pm fleft tsCont tsSoldoutC\n",
      "12 pm - 2 pm fleft tsCont tsSoldoutC\n",
      "2 pm - 5 pm fleft tsCont tsSoldoutC\n",
      "5 pm - 8 pm fleft tsCont tsSoldoutC\n",
      "8 pm - 10 pm fleft tsCont tsSoldoutC\n",
      "\n",
      "\n",
      "\n",
      "SAT\n",
      "Apr 25\n",
      "6 am - 9 am fleft tsCont tsSoldoutC\n",
      "9 am - 12 pm fleft tsCont tsSoldoutC\n",
      "12 pm - 2 pm fleft tsCont tsSoldoutC\n",
      "2 pm - 5 pm fleft tsCont tsSoldoutC\n",
      "5 pm - 8 pm fleft tsCont tsSoldoutC\n",
      "8 pm - 10 pm fleft tsCont tsSoldoutC\n",
      "\n",
      "\n",
      "\n"
     ]
    }
   ],
   "source": [
    "days = list(range(1,7))\n",
    "timeslots = list(range(6))\n",
    "for d in days:\n",
    "    query = 'ts_d{}_hC'.format(d)\n",
    "    header = driver.find_element_by_id(query)\n",
    "    print(header.text)\n",
    "    for t in timeslots:\n",
    "        query = 'ts_d{}_ts{}_time'.format(d, t)\n",
    "        time_slot = driver.find_element_by_id(query)\n",
    "        attr = time_slot.get_attribute('class')\n",
    "        ts = time_slot.text\n",
    "        print(ts, attr)\n",
    "    print('\\n\\n')"
   ]
  }
 ],
 "metadata": {
  "kernelspec": {
   "display_name": "Python 3",
   "language": "python",
   "name": "python3"
  },
  "language_info": {
   "codemirror_mode": {
    "name": "ipython",
    "version": 3
   },
   "file_extension": ".py",
   "mimetype": "text/x-python",
   "name": "python",
   "nbconvert_exporter": "python",
   "pygments_lexer": "ipython3",
   "version": "3.7.3"
  }
 },
 "nbformat": 4,
 "nbformat_minor": 2
}
